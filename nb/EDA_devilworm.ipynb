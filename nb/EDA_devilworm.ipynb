{
 "cells": [
  {
   "cell_type": "code",
   "execution_count": 1,
   "metadata": {},
   "outputs": [],
   "source": [
    "import numpy as np\n",
    "import pandas as pd\n",
    "import matplotlib.pyplot as plt"
   ]
  },
  {
   "cell_type": "code",
   "execution_count": 2,
   "metadata": {},
   "outputs": [
    {
     "data": {
      "text/html": [
       "<div>\n",
       "<style scoped>\n",
       "    .dataframe tbody tr th:only-of-type {\n",
       "        vertical-align: middle;\n",
       "    }\n",
       "\n",
       "    .dataframe tbody tr th {\n",
       "        vertical-align: top;\n",
       "    }\n",
       "\n",
       "    .dataframe thead th {\n",
       "        text-align: right;\n",
       "    }\n",
       "</style>\n",
       "<table border=\"1\" class=\"dataframe\">\n",
       "  <thead>\n",
       "    <tr style=\"text-align: right;\">\n",
       "      <th></th>\n",
       "      <th>Species</th>\n",
       "      <th>Gene</th>\n",
       "      <th>Sequence</th>\n",
       "    </tr>\n",
       "  </thead>\n",
       "  <tbody>\n",
       "    <tr>\n",
       "      <th>0</th>\n",
       "      <td>Bursaphelenchus xylophilus</td>\n",
       "      <td>COX1</td>\n",
       "      <td>ATTTTAAAGTTTAAATTTCAAGAAAGTTATAAATATTGATTTGAGA...</td>\n",
       "    </tr>\n",
       "    <tr>\n",
       "      <th>1</th>\n",
       "      <td>Bursaphelenchus xylophilus</td>\n",
       "      <td>COX2</td>\n",
       "      <td>ATTTTTAATTATTTTCAAGGTTATAATTTAAATTTTTCTAGTAGTA...</td>\n",
       "    </tr>\n",
       "    <tr>\n",
       "      <th>2</th>\n",
       "      <td>Bursaphelenchus xylophilus</td>\n",
       "      <td>ND3</td>\n",
       "      <td>ATTATTTTTTTTTTTGTTTTTTTTGGTTGTTTATTTTTATTTTTAT...</td>\n",
       "    </tr>\n",
       "    <tr>\n",
       "      <th>3</th>\n",
       "      <td>Bursaphelenchus xylophilus</td>\n",
       "      <td>ND5</td>\n",
       "      <td>ATTAATTTGATATTTTTTTTAGTATTTTTGGGGTTTATATTTATAT...</td>\n",
       "    </tr>\n",
       "    <tr>\n",
       "      <th>4</th>\n",
       "      <td>Bursaphelenchus xylophilus</td>\n",
       "      <td>ND6</td>\n",
       "      <td>ATTATTTTTTATTATTTTTTTTTTTTAATAATTTTAATTTGTTATT...</td>\n",
       "    </tr>\n",
       "  </tbody>\n",
       "</table>\n",
       "</div>"
      ],
      "text/plain": [
       "                      Species  Gene  \\\n",
       "0  Bursaphelenchus xylophilus  COX1   \n",
       "1  Bursaphelenchus xylophilus  COX2   \n",
       "2  Bursaphelenchus xylophilus   ND3   \n",
       "3  Bursaphelenchus xylophilus   ND5   \n",
       "4  Bursaphelenchus xylophilus   ND6   \n",
       "\n",
       "                                            Sequence  \n",
       "0  ATTTTAAAGTTTAAATTTCAAGAAAGTTATAAATATTGATTTGAGA...  \n",
       "1  ATTTTTAATTATTTTCAAGGTTATAATTTAAATTTTTCTAGTAGTA...  \n",
       "2  ATTATTTTTTTTTTTGTTTTTTTTGGTTGTTTATTTTTATTTTTAT...  \n",
       "3  ATTAATTTGATATTTTTTTTAGTATTTTTGGGGTTTATATTTATAT...  \n",
       "4  ATTATTTTTTATTATTTTTTTTTTTTAATAATTTTAATTTGTTATT...  "
      ]
     },
     "execution_count": 2,
     "metadata": {},
     "output_type": "execute_result"
    }
   ],
   "source": [
    "path = \"../data/raw/NematodaForIQTree.csv\"\n",
    "df = pd.read_csv(path)\n",
    "df.head()"
   ]
  },
  {
   "cell_type": "code",
   "execution_count": 10,
   "metadata": {},
   "outputs": [
    {
     "data": {
      "image/png": "[encoded data removed]",
      "text/plain": [
       "<Figure size 432x288 with 1 Axes>"
      ]
     },
     "metadata": {
      "needs_background": "light"
     },
     "output_type": "display_data"
    }
   ],
   "source": [
    "df.groupby(\"Species\").apply(lambda x: \"\".join(x.Sequence)).apply(len).hist()\n",
    "plt.xlabel(\"Genome length\");"
   ]
  },
  {
   "cell_type": "code",
   "execution_count": 29,
   "metadata": {},
   "outputs": [
    {
     "data": {
      "text/plain": [
       "COX3    149\n",
       "COX1    148\n",
       "COX2    148\n",
       "ND3     148\n",
       "ND5     148\n",
       "ND6     148\n",
       "ND4L    148\n",
       "ND1     148\n",
       "ATP6    148\n",
       "ND2     148\n",
       "CYTB    148\n",
       "ND4     148\n",
       "Name: Gene, dtype: int64"
      ]
     },
     "execution_count": 29,
     "metadata": {},
     "output_type": "execute_result"
    }
   ],
   "source": [
    "df.Gene.value_counts()"
   ]
  },
  {
   "cell_type": "code",
   "execution_count": 30,
   "metadata": {},
   "outputs": [
    {
     "data": {
      "text/plain": [
       "{148, 149}"
      ]
     },
     "execution_count": 30,
     "metadata": {},
     "output_type": "execute_result"
    }
   ],
   "source": [
    "set(df.Gene.value_counts())"
   ]
  },
  {
   "cell_type": "code",
   "execution_count": 9,
   "metadata": {},
   "outputs": [
    {
     "data": {
      "text/plain": [
       "Species                                         Gene\n",
       "Acanthocheilonema viteae                        ATP6    1\n",
       "Oesophagostomum asperum                         COX2    1\n",
       "                                                COX1    1\n",
       "                                                ATP6    1\n",
       "Nippostrongylus brasiliensis                    ND6     1\n",
       "                                                       ..\n",
       "Contracaecum ogmorhini sensu lato South Africa  ND5     1\n",
       "                                                ND4L    1\n",
       "Contracaecum osculatum                          ND4     1\n",
       "Wuchereria bancrofti                            ND6     1\n",
       "Camallanus cotti                                COX3    2\n",
       "Name: Gene, Length: 1776, dtype: int64"
      ]
     },
     "execution_count": 9,
     "metadata": {},
     "output_type": "execute_result"
    }
   ],
   "source": [
    "df.groupby(\"Species\").Gene.value_counts().sort_values()"
   ]
  },
  {
   "cell_type": "code",
   "execution_count": 10,
   "metadata": {},
   "outputs": [
    {
     "data": {
      "text/html": [
       "<div>\n",
       "<style scoped>\n",
       "    .dataframe tbody tr th:only-of-type {\n",
       "        vertical-align: middle;\n",
       "    }\n",
       "\n",
       "    .dataframe tbody tr th {\n",
       "        vertical-align: top;\n",
       "    }\n",
       "\n",
       "    .dataframe thead th {\n",
       "        text-align: right;\n",
       "    }\n",
       "</style>\n",
       "<table border=\"1\" class=\"dataframe\">\n",
       "  <thead>\n",
       "    <tr style=\"text-align: right;\">\n",
       "      <th></th>\n",
       "      <th>Species</th>\n",
       "      <th>Gene</th>\n",
       "      <th>Sequence</th>\n",
       "    </tr>\n",
       "  </thead>\n",
       "  <tbody>\n",
       "    <tr>\n",
       "      <th>936</th>\n",
       "      <td>Camallanus cotti</td>\n",
       "      <td>COX3</td>\n",
       "      <td>ATTAAGCATTCTTTTCATGTTTTAGGTTTGTCTATTTTACCTGTTA...</td>\n",
       "    </tr>\n",
       "    <tr>\n",
       "      <th>937</th>\n",
       "      <td>Camallanus cotti</td>\n",
       "      <td>ND4</td>\n",
       "      <td>GTTTTTTATGTTCTGTTTCTATTAATTTGGGTTTTTTTTTTTGATA...</td>\n",
       "    </tr>\n",
       "    <tr>\n",
       "      <th>938</th>\n",
       "      <td>Camallanus cotti</td>\n",
       "      <td>ND2</td>\n",
       "      <td>ATTTGTTTTTTTTTTTTCCTTTATGTTTTTTTTTGTTTTGTTATTG...</td>\n",
       "    </tr>\n",
       "    <tr>\n",
       "      <th>939</th>\n",
       "      <td>Camallanus cotti</td>\n",
       "      <td>ND1</td>\n",
       "      <td>TTGTTAGGTGTAGTTATATTTTTTTTGGTTTTAATTTTTTTGGTTT...</td>\n",
       "    </tr>\n",
       "    <tr>\n",
       "      <th>940</th>\n",
       "      <td>Camallanus cotti</td>\n",
       "      <td>ATP6</td>\n",
       "      <td>TTGCCTTGTTTTGTGGTGAGTCATTTTTTTGTTGGGTATCATGATA...</td>\n",
       "    </tr>\n",
       "    <tr>\n",
       "      <th>941</th>\n",
       "      <td>Camallanus cotti</td>\n",
       "      <td>COX1</td>\n",
       "      <td>TTGTATAGAAGTCGTAGAATTTTTTATTGGTTGGAAACTACTAATC...</td>\n",
       "    </tr>\n",
       "    <tr>\n",
       "      <th>942</th>\n",
       "      <td>Camallanus cotti</td>\n",
       "      <td>COX2</td>\n",
       "      <td>TTGTTTATTGATTTTGGTTTGGGATTTTTGTCGAGTCACCACTCTA...</td>\n",
       "    </tr>\n",
       "    <tr>\n",
       "      <th>943</th>\n",
       "      <td>Camallanus cotti</td>\n",
       "      <td>ND3</td>\n",
       "      <td>TTGTTTGTTTTTGCTTTTTATTTGTTGTTGGTTGTTATTTTTGTTT...</td>\n",
       "    </tr>\n",
       "    <tr>\n",
       "      <th>944</th>\n",
       "      <td>Camallanus cotti</td>\n",
       "      <td>ND5</td>\n",
       "      <td>TTGGATATATTTATTTTTGTTTTGTTGTTTTTAATTCTGTTTTTTT...</td>\n",
       "    </tr>\n",
       "    <tr>\n",
       "      <th>945</th>\n",
       "      <td>Camallanus cotti</td>\n",
       "      <td>CYTB</td>\n",
       "      <td>GTGTTATCTAATGTTTTTTGGGGTTCTCTAATTGTTTTGCCTGCTA...</td>\n",
       "    </tr>\n",
       "    <tr>\n",
       "      <th>946</th>\n",
       "      <td>Camallanus cotti</td>\n",
       "      <td>COX3</td>\n",
       "      <td>ATTAAGCATTCTCTTCATGTTTTAGGTTCGTCTATTTTACCTGTTA...</td>\n",
       "    </tr>\n",
       "    <tr>\n",
       "      <th>947</th>\n",
       "      <td>Camallanus cotti</td>\n",
       "      <td>ND6</td>\n",
       "      <td>TTGTTTTTTTGTTTTTTATTTTCTGTTTTTTTTTCTGTTTTGAGAT...</td>\n",
       "    </tr>\n",
       "    <tr>\n",
       "      <th>948</th>\n",
       "      <td>Camallanus cotti</td>\n",
       "      <td>ND4L</td>\n",
       "      <td>TTGTATTTGTTTTTGTTTGGTTTTATGATAATTGTTTTTAAGTTTA...</td>\n",
       "    </tr>\n",
       "  </tbody>\n",
       "</table>\n",
       "</div>"
      ],
      "text/plain": [
       "              Species  Gene                                           Sequence\n",
       "936  Camallanus cotti  COX3  ATTAAGCATTCTTTTCATGTTTTAGGTTTGTCTATTTTACCTGTTA...\n",
       "937  Camallanus cotti   ND4  GTTTTTTATGTTCTGTTTCTATTAATTTGGGTTTTTTTTTTTGATA...\n",
       "938  Camallanus cotti   ND2  ATTTGTTTTTTTTTTTTCCTTTATGTTTTTTTTTGTTTTGTTATTG...\n",
       "939  Camallanus cotti   ND1  TTGTTAGGTGTAGTTATATTTTTTTTGGTTTTAATTTTTTTGGTTT...\n",
       "940  Camallanus cotti  ATP6  TTGCCTTGTTTTGTGGTGAGTCATTTTTTTGTTGGGTATCATGATA...\n",
       "941  Camallanus cotti  COX1  TTGTATAGAAGTCGTAGAATTTTTTATTGGTTGGAAACTACTAATC...\n",
       "942  Camallanus cotti  COX2  TTGTTTATTGATTTTGGTTTGGGATTTTTGTCGAGTCACCACTCTA...\n",
       "943  Camallanus cotti   ND3  TTGTTTGTTTTTGCTTTTTATTTGTTGTTGGTTGTTATTTTTGTTT...\n",
       "944  Camallanus cotti   ND5  TTGGATATATTTATTTTTGTTTTGTTGTTTTTAATTCTGTTTTTTT...\n",
       "945  Camallanus cotti  CYTB  GTGTTATCTAATGTTTTTTGGGGTTCTCTAATTGTTTTGCCTGCTA...\n",
       "946  Camallanus cotti  COX3  ATTAAGCATTCTCTTCATGTTTTAGGTTCGTCTATTTTACCTGTTA...\n",
       "947  Camallanus cotti   ND6  TTGTTTTTTTGTTTTTTATTTTCTGTTTTTTTTTCTGTTTTGAGAT...\n",
       "948  Camallanus cotti  ND4L  TTGTATTTGTTTTTGTTTGGTTTTATGATAATTGTTTTTAAGTTTA..."
      ]
     },
     "execution_count": 10,
     "metadata": {},
     "output_type": "execute_result"
    }
   ],
   "source": [
    "df[df.Species == \"Camallanus cotti\"]"
   ]
  },
  {
   "cell_type": "code",
   "execution_count": 22,
   "metadata": {},
   "outputs": [
    {
     "data": {
      "text/html": [
       "<div>\n",
       "<style scoped>\n",
       "    .dataframe tbody tr th:only-of-type {\n",
       "        vertical-align: middle;\n",
       "    }\n",
       "\n",
       "    .dataframe tbody tr th {\n",
       "        vertical-align: top;\n",
       "    }\n",
       "\n",
       "    .dataframe thead th {\n",
       "        text-align: right;\n",
       "    }\n",
       "</style>\n",
       "<table border=\"1\" class=\"dataframe\">\n",
       "  <thead>\n",
       "    <tr style=\"text-align: right;\">\n",
       "      <th></th>\n",
       "      <th>Species</th>\n",
       "      <th>Gene</th>\n",
       "      <th>Sequence</th>\n",
       "    </tr>\n",
       "  </thead>\n",
       "  <tbody>\n",
       "    <tr>\n",
       "      <th>936</th>\n",
       "      <td>Camallanus cotti</td>\n",
       "      <td>COX3</td>\n",
       "      <td>ATTAAGCATTCTTTTCATGTTTTAGGTTTGTCTATTTTACCTGTTA...</td>\n",
       "    </tr>\n",
       "    <tr>\n",
       "      <th>946</th>\n",
       "      <td>Camallanus cotti</td>\n",
       "      <td>COX3</td>\n",
       "      <td>ATTAAGCATTCTCTTCATGTTTTAGGTTCGTCTATTTTACCTGTTA...</td>\n",
       "    </tr>\n",
       "  </tbody>\n",
       "</table>\n",
       "</div>"
      ],
      "text/plain": [
       "              Species  Gene                                           Sequence\n",
       "936  Camallanus cotti  COX3  ATTAAGCATTCTTTTCATGTTTTAGGTTTGTCTATTTTACCTGTTA...\n",
       "946  Camallanus cotti  COX3  ATTAAGCATTCTCTTCATGTTTTAGGTTCGTCTATTTTACCTGTTA..."
      ]
     },
     "execution_count": 22,
     "metadata": {},
     "output_type": "execute_result"
    }
   ],
   "source": [
    "df[(df.Species == \"Camallanus cotti\") & (df.Gene == \"COX3\")]"
   ]
  },
  {
   "cell_type": "code",
   "execution_count": 19,
   "metadata": {},
   "outputs": [
    {
     "name": "stdout",
     "output_type": "stream",
     "text": [
      "ATTAAGCATTCTTTTCATGTTTTAGGTTTGTCTATTTTACCTGTTATGGTATCTTTAGGTATTTTAAGTTTGGCTAGGTCTTTTATTGTTTTTTTATTATTTTCCTTTAATTATAGTGTTTTTTATAGTTTGATGGTTATTTTTTTTGTTTTGATTTTTTGGGGTAAGGATGTAGGAATGGAGTCTTTATCTGGTTGTCACAATATTCGTATTAGTGAAGGATTCCGTTATGGGATGTATTTATTTGTTTTTAGAGAGGTGATGTTCTTCTTTAGTATTTTTTGGTTTTTTTTTGATTGTGCTGTTTCTAGGGACGAGGGAGCTTGGCCGCCTAGGGGTGTGGAGATAGTGGACCCTATGGGTGTGCCTTTTTTGAATACAATGATTTTGTTGACTAAAAGTTTAACTGTCACATGAGCTCATCATTGTTTATTGGTTAATAAAGATAGGGTAATGCCTTTGTTTGTGACTTGTTTTTTGGGTTTGTTCTTTATTAAAATACAGGTGGATGAGTATAGGATGGCTTCCTTTTCAATTTCGGATTGTTCTTATGGTAGTATTTTTTATTTATCTACCGGTTTTCATGGGGCCCATGTGACTGGGGGTACTTTATTTTTGCTTTTTAATTTGTTTCGTTTGTTTTTTAATCATTTTAATTCTTTAAATAATTTAGGTTTGGAGTTTGGTATTGTATATTGGCATTTTGTTGATGTGGTTTGATTATTTTTGTTTGTATTTGTTTATTGTTGAAATTGTTGCTAA\n",
      "ATTAAGCATTCTCTTCATGTTTTAGGTTCGTCTATTTTACCTGTTATGGTATCTTTAGGTATTTTAAGTTTGGCTAGGTCTTTTATTGTTTTTTTATTATTTTCCTTTTATTATAGTGTTTTTTATAGTTTGATGGTTATTTTTTTTGTTTTGATTTTTTGGGGTAAGGATGTAGGAATGGAGTCTTTATCTGGTTGTCACAATATTCGTATTAGTGAAGGATTCCGTTATGGGATGTATTTATTTGTTTTTAGAGAGGTGATGTTCTTCTTTAGTATTTTTTGGTTTTTTTTTGATTGTGCTGTTTCTAGGGACGAGGGAGCTTGGCCGCCTAGGGGTGTGGAGATAATGGACCCTATGGGTGTGCCTTTTTTGAATACAATGATTTTGTTGACTAGAAGTTTAACTGTCACATGAGCTCATCATTGTTTATTGGTTAATAAAGATAGGGTAATGCCTTTGTTTGTGACTTGTTTTTTGGGTTTGTTCTTTATTAAAATACAGGTGGATGAGTATAGGATGGCTTCCTTTTCAATTTCGGATTGTTCTTATGGTAGTATTTTTTATTTATCTACCGGTTTTCATGGGGCCCATGTGACTGGGGGTACTTTATTTTTGCTTTTTAATTTGTTTCGTTTGTTTTTTAATCATTTTAATTCTTTAAATAATTTAGGTTTGGAGTTTGGTATTGTATATTGGCATTTTGTTGATGTGGTTTGATTATTTTTGTTTGTATTTGTTTATTGTTGAAATTGTTGCTAA\n"
     ]
    }
   ],
   "source": [
    "s1, s2 = df[(df.Species == \"Camallanus cotti\") & (df.Gene == \"COX3\")].Sequence.values\n",
    "print(s1)\n",
    "print(s2)"
   ]
  },
  {
   "cell_type": "code",
   "execution_count": 18,
   "metadata": {},
   "outputs": [
    {
     "data": {
      "text/plain": [
       "False"
      ]
     },
     "execution_count": 18,
     "metadata": {},
     "output_type": "execute_result"
    }
   ],
   "source": [
    "s1 == s2"
   ]
  },
  {
   "cell_type": "code",
   "execution_count": 21,
   "metadata": {},
   "outputs": [
    {
     "name": "stdout",
     "output_type": "stream",
     "text": [
      "matches: 757, mismatches: 5, n: 762\n"
     ]
    }
   ],
   "source": [
    "n = len(s1)\n",
    "\n",
    "matches = mismatches = 0\n",
    "for i in range(n):\n",
    "    if s1[i] == s2[i]:\n",
    "        matches += 1\n",
    "    else:\n",
    "        mismatches += 1\n",
    "\n",
    "print(f\"matches: {matches}, mismatches: {mismatches}, n: {n}\")"
   ]
  },
  {
   "cell_type": "code",
   "execution_count": 23,
   "metadata": {},
   "outputs": [],
   "source": [
    "df.drop(946, inplace=True)"
   ]
  },
  {
   "cell_type": "code",
   "execution_count": 25,
   "metadata": {},
   "outputs": [
    {
     "data": {
      "text/plain": [
       "{148}"
      ]
     },
     "execution_count": 25,
     "metadata": {},
     "output_type": "execute_result"
    }
   ],
   "source": [
    "set(df.Gene.value_counts())"
   ]
  },
  {
   "cell_type": "code",
   "execution_count": 27,
   "metadata": {},
   "outputs": [],
   "source": [
    "PATH_TO_OUT = \"../data/interim/devilworm_genes.csv\"\n",
    "df.to_csv(PATH_TO_OUT, index=None)"
   ]
  },
  {
   "cell_type": "code",
   "execution_count": null,
   "metadata": {},
   "outputs": [],
   "source": []
  }
 ],
 "metadata": {
  "interpreter": {
   "hash": "93a7148c052c610c1403bc8d286a596fa19423aa3f7e7815a5261acadf4fadc1"
  },
  "kernelspec": {
   "display_name": "Python 3.9.5 ('env_birds': venv)",
   "language": "python",
   "name": "python3"
  },
  "language_info": {
   "codemirror_mode": {
    "name": "ipython",
    "version": 3
   },
   "file_extension": ".py",
   "mimetype": "text/x-python",
   "name": "python",
   "nbconvert_exporter": "python",
   "pygments_lexer": "ipython3",
   "version": "3.9.5"
  },
  "orig_nbformat": 4
 },
 "nbformat": 4,
 "nbformat_minor": 2
}
