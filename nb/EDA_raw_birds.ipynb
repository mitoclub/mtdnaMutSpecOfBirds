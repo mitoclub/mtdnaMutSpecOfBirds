{
 "cells": [
  {
   "cell_type": "code",
   "execution_count": 1,
   "id": "db0f5b91",
   "metadata": {},
   "outputs": [],
   "source": [
    "import pandas as pd"
   ]
  },
  {
   "cell_type": "code",
   "execution_count": 2,
   "id": "2d3ac19b",
   "metadata": {},
   "outputs": [],
   "source": [
    "path = \"../data/raw/final_birds_list_with_no_mistakes.csv\"\n",
    "\n",
    "df = pd.read_csv(path, index_col=0).drop(\"X\", axis=1)"
   ]
  },
  {
   "cell_type": "code",
   "execution_count": 3,
   "id": "76d5c9fc",
   "metadata": {},
   "outputs": [
    {
     "name": "stdout",
     "output_type": "stream",
     "text": [
      "380.6666666666667\n"
     ]
    },
    {
     "data": {
      "text/plain": [
       "'ATGGCCCCTAACATCCGCAAATCCCACCCCATTCTTAAAACAATCAACGACTCCTTAATTGACCTCCCAACACCTCCTAACATTTCCGCATGATGAAATTTCGGATCCCTTCTCGGCATCTGCTTAATAACACAAATCGTTACAGGCCTCCTCCTAGCAACCCATTACACTGCAGACACAACCTTGGCCTTCTCATCCGTTGCCCACACATGCCGCAACGTCCAATACGGCTGACTCATTCGCAACCTTCACGCTAACGGAGCCTCATTTTTCTTCATTTGTATTTACCTTCATATTGGACGTGGCTTTTACTATGGTTCTTATCTCTACAAAGAAACCTGGAACACCGGAATCCTCCTACTCCTCACCCTCATAGCAACTGCCTTTGTCGGTTATGTCCTCCCATGAGGACAAATATCGTTCTGAGGGGCTACCGTCATTACTAATCTATTCTCAGCCCTCCCCTATATCGGACAAACCATTGTTGAGTGGGCCTGAGGAGGATTTTCAGTAGACAACCCAACTCTCACCCGATTCTTCGCCCTACACTTCCTCCTCCCATTCGTAATTGCCGGCCTCGTCATCGTCCATCTCACCTTCCTCCACGAAACCGGATCAAACAACCCCCTCGGAATTACCTCCGACTCTGATAAAATCCCATTCCACCCCTACTTCTCCACCAAAGACCTTCTAGGATTTATCCTCCTTCTACTCCCACTAATCACCCTAGCCTTATTCTCACCTAACTTTCTAGGCGACCCAGAAAACTTCACACCAGCCAACCCCCTAGTTACACCACCTCACATTAAACCAGAATGGTATTTCTTATTTGCCTACGCCATCCTCCGTTCAATCCCTAATAAGCTAGGAGGTGTCCTCGCATTAGCTGCCTCCGTACTTGTCCTCTTCCTATCTCCCCTCCTCCATATGTCTAAACAACGCGCAATAACCTTTCGACCCCTCTCTCAACTCCTATTCTGAATCCTAGTGGCCAATCTTTTTATCCTCACCTGAGTAGGCAGCCAACCAGTAGAACACCCTTTCATCATTATTGGCCAATTAGCCTCCATCACCTACTTCACCATCATCCTAATCCTATTTCCCCTTATTACCTCCCTAGAAAACAAAATACTGAACTTCTA'"
      ]
     },
     "execution_count": 3,
     "metadata": {},
     "output_type": "execute_result"
    }
   ],
   "source": [
    "s = df[(df[\"Species.name\"] == \"Jynx torquilla\") & (df[\"Gene.name\"] == \"[CYTB]\")].Sequence.values[0]\n",
    "\n",
    "print(len(s) / 3)\n",
    "s"
   ]
  },
  {
   "cell_type": "code",
   "execution_count": 4,
   "id": "cac50aa4",
   "metadata": {},
   "outputs": [
    {
     "data": {
      "text/plain": [
       "True     7710\n",
       "False    2248\n",
       "Name: Sequence, dtype: int64"
      ]
     },
     "execution_count": 4,
     "metadata": {},
     "output_type": "execute_result"
    }
   ],
   "source": [
    "df.Sequence.apply(lambda x: len(x) % 3 == 0).value_counts()  # normalize=True"
   ]
  },
  {
   "cell_type": "code",
   "execution_count": 5,
   "id": "9707eb10",
   "metadata": {},
   "outputs": [
    {
     "data": {
      "text/plain": [
       "[COX3]    764\n",
       "[ND4]     659\n",
       "[ND2]     603\n",
       "[ND3]      79\n",
       "[COX2]     65\n",
       "[CYTB]     46\n",
       "[ATP6]     13\n",
       "[ND5]       5\n",
       "[ND1]       5\n",
       "[ATP8]      5\n",
       "[ND6]       3\n",
       "[ND4L]      1\n",
       "Name: Gene.name, dtype: int64"
      ]
     },
     "execution_count": 5,
     "metadata": {},
     "output_type": "execute_result"
    }
   ],
   "source": [
    "df[df.Sequence.apply(lambda x: len(x) % 3 != 0)][\"Gene.name\"].value_counts()"
   ]
  },
  {
   "cell_type": "code",
   "execution_count": 9,
   "id": "ff53bf3f",
   "metadata": {},
   "outputs": [
    {
     "data": {
      "text/plain": [
       "0     2203\n",
       "1       37\n",
       "2        4\n",
       "4        1\n",
       "11       1\n",
       "10       1\n",
       "3        1\n",
       "Name: Wrong.amino.num, dtype: int64"
      ]
     },
     "execution_count": 9,
     "metadata": {},
     "output_type": "execute_result"
    }
   ],
   "source": [
    "df[df.Sequence.apply(lambda x: len(x) % 3 != 0)][\"Wrong.amino.num\"].value_counts()"
   ]
  },
  {
   "cell_type": "code",
   "execution_count": 10,
   "id": "f0907fb9",
   "metadata": {},
   "outputs": [
    {
     "data": {
      "text/plain": [
       "0     9769\n",
       "1      129\n",
       "2       24\n",
       "3       10\n",
       "4        6\n",
       "5        4\n",
       "9        3\n",
       "7        2\n",
       "10       2\n",
       "6        1\n",
       "26       1\n",
       "42       1\n",
       "20       1\n",
       "40       1\n",
       "30       1\n",
       "15       1\n",
       "11       1\n",
       "27       1\n",
       "Name: Wrong.amino.num, dtype: int64"
      ]
     },
     "execution_count": 10,
     "metadata": {},
     "output_type": "execute_result"
    }
   ],
   "source": [
    "df[\"Wrong.amino.num\"].value_counts()"
   ]
  },
  {
   "cell_type": "code",
   "execution_count": null,
   "id": "3fe90026",
   "metadata": {},
   "outputs": [],
   "source": []
  },
  {
   "cell_type": "code",
   "execution_count": 3,
   "id": "334cf02e",
   "metadata": {},
   "outputs": [
    {
     "data": {
      "text/plain": [
       "Index(['Species.name', 'Realm', 'TrophicLevel', 'TrophicNiche',\n",
       "       'ForagingNiche', 'GenbankID', 'Taxonomy', 'Gene.name',\n",
       "       'Gene.start.end.and.trend', 'GeneID', 'Aminoacids.from.genbank',\n",
       "       'Translated.aminoacids.by.Python', 'Not.standart.codons',\n",
       "       'Wrong.amino.num', 'Wrong.nucl.num', 'wrong.amino..', 'Sequence',\n",
       "       'mtDNA.length', 'nA', 'nT', 'nC', 'nG', 'nNA', 'X.A', 'X.T', 'X.C',\n",
       "       'X.G', 'X.NA', 'wrong.amino...1', 'neutralA', 'neutralG', 'neutralC',\n",
       "       'neutralT', 'Neutral.count', 'TTT', 'TTC', 'TTA', 'TTG', 'TCT', 'TCC',\n",
       "       'TCA', 'TCG', 'TAT', 'TAC', 'TGT', 'TGC', 'TGG', 'CTT', 'CTC', 'CTA',\n",
       "       'CTG', 'CCT', 'CCC', 'CCA', 'CCG', 'CAT', 'CAC', 'CAA', 'CAG', 'CGT',\n",
       "       'CGC', 'CGA', 'CGG', 'ATT', 'ATC', 'ATA', 'ATG', 'ACT', 'ACC', 'ACA',\n",
       "       'ACG', 'AAT', 'AAC', 'AAA', 'AAG', 'AGT', 'AGC', 'AGA', 'AGG', 'GTT',\n",
       "       'GTC', 'GTA', 'GTG', 'GCT', 'GCC', 'GCA', 'GCG', 'GAT', 'GAC', 'GAA',\n",
       "       'GAG', 'GGT', 'GGC', 'GGA', 'GGG', 'TAA', 'TAG', 'TGA', 'temp'],\n",
       "      dtype='object')"
      ]
     },
     "execution_count": 3,
     "metadata": {},
     "output_type": "execute_result"
    }
   ],
   "source": [
    "df.columns"
   ]
  },
  {
   "cell_type": "code",
   "execution_count": 5,
   "id": "2a236a1c",
   "metadata": {},
   "outputs": [
    {
     "data": {
      "text/plain": [
       "(9958, 99)"
      ]
     },
     "execution_count": 5,
     "metadata": {},
     "output_type": "execute_result"
    }
   ],
   "source": [
    "df.shape"
   ]
  },
  {
   "cell_type": "code",
   "execution_count": 6,
   "id": "22581396",
   "metadata": {},
   "outputs": [
    {
     "data": {
      "text/html": [
       "<div>\n",
       "<style scoped>\n",
       "    .dataframe tbody tr th:only-of-type {\n",
       "        vertical-align: middle;\n",
       "    }\n",
       "\n",
       "    .dataframe tbody tr th {\n",
       "        vertical-align: top;\n",
       "    }\n",
       "\n",
       "    .dataframe thead th {\n",
       "        text-align: right;\n",
       "    }\n",
       "</style>\n",
       "<table border=\"1\" class=\"dataframe\">\n",
       "  <thead>\n",
       "    <tr style=\"text-align: right;\">\n",
       "      <th></th>\n",
       "      <th>1</th>\n",
       "    </tr>\n",
       "  </thead>\n",
       "  <tbody>\n",
       "    <tr>\n",
       "      <th>Species.name</th>\n",
       "      <td>Acanthisitta chloris</td>\n",
       "    </tr>\n",
       "    <tr>\n",
       "      <th>Realm</th>\n",
       "      <td>Australian</td>\n",
       "    </tr>\n",
       "    <tr>\n",
       "      <th>TrophicLevel</th>\n",
       "      <td>Carnivore</td>\n",
       "    </tr>\n",
       "    <tr>\n",
       "      <th>TrophicNiche</th>\n",
       "      <td>Invertivore</td>\n",
       "    </tr>\n",
       "    <tr>\n",
       "      <th>ForagingNiche</th>\n",
       "      <td>Invertivore bark</td>\n",
       "    </tr>\n",
       "    <tr>\n",
       "      <th>GenbankID</th>\n",
       "      <td>[NC_051004]</td>\n",
       "    </tr>\n",
       "    <tr>\n",
       "      <th>Taxonomy</th>\n",
       "      <td>['Eukaryota', 'Metazoa', 'Chordata', 'Craniata...</td>\n",
       "    </tr>\n",
       "    <tr>\n",
       "      <th>Gene.name</th>\n",
       "      <td>[ND2]</td>\n",
       "    </tr>\n",
       "    <tr>\n",
       "      <th>Gene.start.end.and.trend</th>\n",
       "      <td>[4018:5057](+)</td>\n",
       "    </tr>\n",
       "    <tr>\n",
       "      <th>GeneID</th>\n",
       "      <td>GeneID:59701857</td>\n",
       "    </tr>\n",
       "    <tr>\n",
       "      <th>Aminoacids.from.genbank</th>\n",
       "      <td>MNPQAKLISLTSLLLGTTITISSNHWMMAWTGLEINTLAILPLISK...</td>\n",
       "    </tr>\n",
       "    <tr>\n",
       "      <th>Translated.aminoacids.by.Python</th>\n",
       "      <td>MNPQAKLISLTSLLLGTTITISSNHWMMAWTGLEINTLAILPLISK...</td>\n",
       "    </tr>\n",
       "    <tr>\n",
       "      <th>Not.standart.codons</th>\n",
       "      <td>2</td>\n",
       "    </tr>\n",
       "    <tr>\n",
       "      <th>Wrong.amino.num</th>\n",
       "      <td>2</td>\n",
       "    </tr>\n",
       "    <tr>\n",
       "      <th>Wrong.nucl.num</th>\n",
       "      <td>TNCCNC</td>\n",
       "    </tr>\n",
       "    <tr>\n",
       "      <th>wrong.amino..</th>\n",
       "      <td>0.578035</td>\n",
       "    </tr>\n",
       "    <tr>\n",
       "      <th>Sequence</th>\n",
       "      <td>ATGAACCCCCAGGCAAAATTAATCTCCCTTACTAGCCTGCTCCTAG...</td>\n",
       "    </tr>\n",
       "    <tr>\n",
       "      <th>mtDNA.length</th>\n",
       "      <td>1039</td>\n",
       "    </tr>\n",
       "    <tr>\n",
       "      <th>nA</th>\n",
       "      <td>286</td>\n",
       "    </tr>\n",
       "    <tr>\n",
       "      <th>nT</th>\n",
       "      <td>250</td>\n",
       "    </tr>\n",
       "    <tr>\n",
       "      <th>nC</th>\n",
       "      <td>376</td>\n",
       "    </tr>\n",
       "    <tr>\n",
       "      <th>nG</th>\n",
       "      <td>125</td>\n",
       "    </tr>\n",
       "    <tr>\n",
       "      <th>nNA</th>\n",
       "      <td>2</td>\n",
       "    </tr>\n",
       "    <tr>\n",
       "      <th>X.A</th>\n",
       "      <td>0.275265</td>\n",
       "    </tr>\n",
       "    <tr>\n",
       "      <th>X.T</th>\n",
       "      <td>0.240616</td>\n",
       "    </tr>\n",
       "    <tr>\n",
       "      <th>X.C</th>\n",
       "      <td>0.361886</td>\n",
       "    </tr>\n",
       "    <tr>\n",
       "      <th>X.G</th>\n",
       "      <td>0.120308</td>\n",
       "    </tr>\n",
       "    <tr>\n",
       "      <th>X.NA</th>\n",
       "      <td>0.001925</td>\n",
       "    </tr>\n",
       "    <tr>\n",
       "      <th>wrong.amino...1</th>\n",
       "      <td>0.578035</td>\n",
       "    </tr>\n",
       "    <tr>\n",
       "      <th>neutralA</th>\n",
       "      <td>66</td>\n",
       "    </tr>\n",
       "    <tr>\n",
       "      <th>neutralG</th>\n",
       "      <td>19</td>\n",
       "    </tr>\n",
       "    <tr>\n",
       "      <th>neutralC</th>\n",
       "      <td>86</td>\n",
       "    </tr>\n",
       "    <tr>\n",
       "      <th>neutralT</th>\n",
       "      <td>37</td>\n",
       "    </tr>\n",
       "    <tr>\n",
       "      <th>Neutral.count</th>\n",
       "      <td>208</td>\n",
       "    </tr>\n",
       "  </tbody>\n",
       "</table>\n",
       "</div>"
      ],
      "text/plain": [
       "                                                                                 1\n",
       "Species.name                                                  Acanthisitta chloris\n",
       "Realm                                                                   Australian\n",
       "TrophicLevel                                                             Carnivore\n",
       "TrophicNiche                                                           Invertivore\n",
       "ForagingNiche                                                     Invertivore bark\n",
       "GenbankID                                                              [NC_051004]\n",
       "Taxonomy                         ['Eukaryota', 'Metazoa', 'Chordata', 'Craniata...\n",
       "Gene.name                                                                    [ND2]\n",
       "Gene.start.end.and.trend                                            [4018:5057](+)\n",
       "GeneID                                                             GeneID:59701857\n",
       "Aminoacids.from.genbank          MNPQAKLISLTSLLLGTTITISSNHWMMAWTGLEINTLAILPLISK...\n",
       "Translated.aminoacids.by.Python  MNPQAKLISLTSLLLGTTITISSNHWMMAWTGLEINTLAILPLISK...\n",
       "Not.standart.codons                                                              2\n",
       "Wrong.amino.num                                                                  2\n",
       "Wrong.nucl.num                                                              TNCCNC\n",
       "wrong.amino..                                                             0.578035\n",
       "Sequence                         ATGAACCCCCAGGCAAAATTAATCTCCCTTACTAGCCTGCTCCTAG...\n",
       "mtDNA.length                                                                  1039\n",
       "nA                                                                             286\n",
       "nT                                                                             250\n",
       "nC                                                                             376\n",
       "nG                                                                             125\n",
       "nNA                                                                              2\n",
       "X.A                                                                       0.275265\n",
       "X.T                                                                       0.240616\n",
       "X.C                                                                       0.361886\n",
       "X.G                                                                       0.120308\n",
       "X.NA                                                                      0.001925\n",
       "wrong.amino...1                                                           0.578035\n",
       "neutralA                                                                        66\n",
       "neutralG                                                                        19\n",
       "neutralC                                                                        86\n",
       "neutralT                                                                        37\n",
       "Neutral.count                                                                  208"
      ]
     },
     "execution_count": 6,
     "metadata": {},
     "output_type": "execute_result"
    }
   ],
   "source": [
    "df.head(1).T.iloc[:-65]"
   ]
  },
  {
   "cell_type": "code",
   "execution_count": 7,
   "id": "55680ad2",
   "metadata": {},
   "outputs": [
    {
     "data": {
      "text/plain": [
       "[ND2]     766\n",
       "[ND3]     766\n",
       "[ATP8]    766\n",
       "[ND1]     766\n",
       "[ND4]     766\n",
       "[COX3]    766\n",
       "[ATP6]    766\n",
       "[ND4L]    766\n",
       "[CYTB]    766\n",
       "[COX1]    766\n",
       "[ND5]     766\n",
       "[ND6]     766\n",
       "[COX2]    766\n",
       "Name: Gene.name, dtype: int64"
      ]
     },
     "execution_count": 7,
     "metadata": {},
     "output_type": "execute_result"
    }
   ],
   "source": [
    "df[\"Gene.name\"].value_counts()"
   ]
  },
  {
   "cell_type": "code",
   "execution_count": 14,
   "id": "2e55ac29",
   "metadata": {},
   "outputs": [
    {
     "data": {
      "text/plain": [
       "13"
      ]
     },
     "execution_count": 14,
     "metadata": {},
     "output_type": "execute_result"
    }
   ],
   "source": [
    "df[\"Gene.name\"].nunique()"
   ]
  },
  {
   "cell_type": "code",
   "execution_count": 15,
   "id": "cec3af4b",
   "metadata": {},
   "outputs": [
    {
     "name": "stdout",
     "output_type": "stream",
     "text": [
      "<class 'pandas.core.frame.DataFrame'>\n",
      "Int64Index: 9958 entries, 1 to 10030\n",
      "Data columns (total 99 columns):\n",
      " #   Column                           Non-Null Count  Dtype  \n",
      "---  ------                           --------------  -----  \n",
      " 0   Species.name                     9958 non-null   object \n",
      " 1   Realm                            9958 non-null   object \n",
      " 2   TrophicLevel                     9958 non-null   object \n",
      " 3   TrophicNiche                     9958 non-null   object \n",
      " 4   ForagingNiche                    7280 non-null   object \n",
      " 5   GenbankID                        9958 non-null   object \n",
      " 6   Taxonomy                         9958 non-null   object \n",
      " 7   Gene.name                        9958 non-null   object \n",
      " 8   Gene.start.end.and.trend         9958 non-null   object \n",
      " 9   GeneID                           9958 non-null   object \n",
      " 10  Aminoacids.from.genbank          9958 non-null   object \n",
      " 11  Translated.aminoacids.by.Python  9958 non-null   object \n",
      " 12  Not.standart.codons              9958 non-null   int64  \n",
      " 13  Wrong.amino.num                  9958 non-null   int64  \n",
      " 14  Wrong.nucl.num                   183 non-null    object \n",
      " 15  wrong.amino..                    9958 non-null   float64\n",
      " 16  Sequence                         9958 non-null   object \n",
      " 17  mtDNA.length                     9958 non-null   int64  \n",
      " 18  nA                               9958 non-null   int64  \n",
      " 19  nT                               9958 non-null   int64  \n",
      " 20  nC                               9958 non-null   int64  \n",
      " 21  nG                               9958 non-null   int64  \n",
      " 22  nNA                              9958 non-null   int64  \n",
      " 23  X.A                              9958 non-null   float64\n",
      " 24  X.T                              9958 non-null   float64\n",
      " 25  X.C                              9958 non-null   float64\n",
      " 26  X.G                              9958 non-null   float64\n",
      " 27  X.NA                             9958 non-null   float64\n",
      " 28  wrong.amino...1                  9958 non-null   float64\n",
      " 29  neutralA                         9958 non-null   int64  \n",
      " 30  neutralG                         9958 non-null   int64  \n",
      " 31  neutralC                         9958 non-null   int64  \n",
      " 32  neutralT                         9958 non-null   int64  \n",
      " 33  Neutral.count                    9958 non-null   int64  \n",
      " 34  TTT                              9958 non-null   int64  \n",
      " 35  TTC                              9958 non-null   int64  \n",
      " 36  TTA                              9958 non-null   int64  \n",
      " 37  TTG                              9958 non-null   int64  \n",
      " 38  TCT                              9958 non-null   int64  \n",
      " 39  TCC                              9958 non-null   int64  \n",
      " 40  TCA                              9958 non-null   int64  \n",
      " 41  TCG                              9958 non-null   int64  \n",
      " 42  TAT                              9958 non-null   int64  \n",
      " 43  TAC                              9958 non-null   int64  \n",
      " 44  TGT                              9958 non-null   int64  \n",
      " 45  TGC                              9958 non-null   int64  \n",
      " 46  TGG                              9958 non-null   int64  \n",
      " 47  CTT                              9958 non-null   int64  \n",
      " 48  CTC                              9958 non-null   int64  \n",
      " 49  CTA                              9958 non-null   int64  \n",
      " 50  CTG                              9958 non-null   int64  \n",
      " 51  CCT                              9958 non-null   int64  \n",
      " 52  CCC                              9958 non-null   int64  \n",
      " 53  CCA                              9958 non-null   int64  \n",
      " 54  CCG                              9958 non-null   int64  \n",
      " 55  CAT                              9958 non-null   int64  \n",
      " 56  CAC                              9958 non-null   int64  \n",
      " 57  CAA                              9958 non-null   int64  \n",
      " 58  CAG                              9958 non-null   int64  \n",
      " 59  CGT                              9958 non-null   int64  \n",
      " 60  CGC                              9958 non-null   int64  \n",
      " 61  CGA                              9958 non-null   int64  \n",
      " 62  CGG                              9958 non-null   int64  \n",
      " 63  ATT                              9958 non-null   int64  \n",
      " 64  ATC                              9958 non-null   int64  \n",
      " 65  ATA                              9958 non-null   int64  \n",
      " 66  ATG                              9958 non-null   int64  \n",
      " 67  ACT                              9958 non-null   int64  \n",
      " 68  ACC                              9958 non-null   int64  \n",
      " 69  ACA                              9958 non-null   int64  \n",
      " 70  ACG                              9958 non-null   int64  \n",
      " 71  AAT                              9958 non-null   int64  \n",
      " 72  AAC                              9958 non-null   int64  \n",
      " 73  AAA                              9958 non-null   int64  \n",
      " 74  AAG                              9958 non-null   int64  \n",
      " 75  AGT                              9958 non-null   int64  \n",
      " 76  AGC                              9958 non-null   int64  \n",
      " 77  AGA                              9958 non-null   int64  \n",
      " 78  AGG                              9958 non-null   int64  \n",
      " 79  GTT                              9958 non-null   int64  \n",
      " 80  GTC                              9958 non-null   int64  \n",
      " 81  GTA                              9958 non-null   int64  \n",
      " 82  GTG                              9958 non-null   int64  \n",
      " 83  GCT                              9958 non-null   int64  \n",
      " 84  GCC                              9958 non-null   int64  \n",
      " 85  GCA                              9958 non-null   int64  \n",
      " 86  GCG                              9958 non-null   int64  \n",
      " 87  GAT                              9958 non-null   int64  \n",
      " 88  GAC                              9958 non-null   int64  \n",
      " 89  GAA                              9958 non-null   int64  \n",
      " 90  GAG                              9958 non-null   int64  \n",
      " 91  GGT                              9958 non-null   int64  \n",
      " 92  GGC                              9958 non-null   int64  \n",
      " 93  GGA                              9958 non-null   int64  \n",
      " 94  GGG                              9958 non-null   int64  \n",
      " 95  TAA                              9958 non-null   int64  \n",
      " 96  TAG                              9958 non-null   int64  \n",
      " 97  TGA                              9958 non-null   int64  \n",
      " 98  temp                             9958 non-null   int64  \n",
      "dtypes: float64(7), int64(78), object(14)\n",
      "memory usage: 7.6+ MB\n"
     ]
    }
   ],
   "source": [
    "df.info()"
   ]
  },
  {
   "cell_type": "code",
   "execution_count": 25,
   "id": "b6ab60d0",
   "metadata": {},
   "outputs": [
    {
     "data": {
      "text/plain": [
       "2678"
      ]
     },
     "execution_count": 25,
     "metadata": {},
     "output_type": "execute_result"
    }
   ],
   "source": [
    "df[\"ForagingNiche\"].isna().sum()"
   ]
  },
  {
   "cell_type": "code",
   "execution_count": 33,
   "id": "2255335b",
   "metadata": {},
   "outputs": [
    {
     "data": {
      "text/html": [
       "<div>\n",
       "<style scoped>\n",
       "    .dataframe tbody tr th:only-of-type {\n",
       "        vertical-align: middle;\n",
       "    }\n",
       "\n",
       "    .dataframe tbody tr th {\n",
       "        vertical-align: top;\n",
       "    }\n",
       "\n",
       "    .dataframe thead th {\n",
       "        text-align: right;\n",
       "    }\n",
       "</style>\n",
       "<table border=\"1\" class=\"dataframe\">\n",
       "  <thead>\n",
       "    <tr style=\"text-align: right;\">\n",
       "      <th></th>\n",
       "      <th>0</th>\n",
       "      <th>1</th>\n",
       "      <th>2</th>\n",
       "      <th>3</th>\n",
       "      <th>4</th>\n",
       "      <th>5</th>\n",
       "      <th>6</th>\n",
       "      <th>7</th>\n",
       "      <th>8</th>\n",
       "      <th>9</th>\n",
       "      <th>...</th>\n",
       "      <th>89</th>\n",
       "      <th>90</th>\n",
       "      <th>91</th>\n",
       "      <th>92</th>\n",
       "      <th>93</th>\n",
       "      <th>94</th>\n",
       "      <th>95</th>\n",
       "      <th>96</th>\n",
       "      <th>97</th>\n",
       "      <th>98</th>\n",
       "    </tr>\n",
       "  </thead>\n",
       "  <tbody>\n",
       "    <tr>\n",
       "      <th>index</th>\n",
       "      <td>Species.name</td>\n",
       "      <td>Realm</td>\n",
       "      <td>TrophicLevel</td>\n",
       "      <td>TrophicNiche</td>\n",
       "      <td>ForagingNiche</td>\n",
       "      <td>GenbankID</td>\n",
       "      <td>Taxonomy</td>\n",
       "      <td>Gene.name</td>\n",
       "      <td>Gene.start.end.and.trend</td>\n",
       "      <td>GeneID</td>\n",
       "      <td>...</td>\n",
       "      <td>GAA</td>\n",
       "      <td>GAG</td>\n",
       "      <td>GGT</td>\n",
       "      <td>GGC</td>\n",
       "      <td>GGA</td>\n",
       "      <td>GGG</td>\n",
       "      <td>TAA</td>\n",
       "      <td>TAG</td>\n",
       "      <td>TGA</td>\n",
       "      <td>temp</td>\n",
       "    </tr>\n",
       "    <tr>\n",
       "      <th>0</th>\n",
       "      <td>766</td>\n",
       "      <td>9</td>\n",
       "      <td>4</td>\n",
       "      <td>10</td>\n",
       "      <td>30</td>\n",
       "      <td>766</td>\n",
       "      <td>468</td>\n",
       "      <td>13</td>\n",
       "      <td>4091</td>\n",
       "      <td>9958</td>\n",
       "      <td>...</td>\n",
       "      <td>17</td>\n",
       "      <td>9</td>\n",
       "      <td>18</td>\n",
       "      <td>27</td>\n",
       "      <td>35</td>\n",
       "      <td>28</td>\n",
       "      <td>2</td>\n",
       "      <td>2</td>\n",
       "      <td>18</td>\n",
       "      <td>1</td>\n",
       "    </tr>\n",
       "  </tbody>\n",
       "</table>\n",
       "<p>2 rows × 99 columns</p>\n",
       "</div>"
      ],
      "text/plain": [
       "                 0      1             2             3              4   \\\n",
       "index  Species.name  Realm  TrophicLevel  TrophicNiche  ForagingNiche   \n",
       "0               766      9             4            10             30   \n",
       "\n",
       "              5         6          7                         8       9   ...  \\\n",
       "index  GenbankID  Taxonomy  Gene.name  Gene.start.end.and.trend  GeneID  ...   \n",
       "0            766       468         13                      4091    9958  ...   \n",
       "\n",
       "        89   90   91   92   93   94   95   96   97    98  \n",
       "index  GAA  GAG  GGT  GGC  GGA  GGG  TAA  TAG  TGA  temp  \n",
       "0       17    9   18   27   35   28    2    2   18     1  \n",
       "\n",
       "[2 rows x 99 columns]"
      ]
     },
     "execution_count": 33,
     "metadata": {},
     "output_type": "execute_result"
    }
   ],
   "source": [
    "df.nunique().reset_index().T"
   ]
  },
  {
   "cell_type": "code",
   "execution_count": 43,
   "id": "eea56887",
   "metadata": {},
   "outputs": [
    {
     "data": {
      "text/html": [
       "<div>\n",
       "<style scoped>\n",
       "    .dataframe tbody tr th:only-of-type {\n",
       "        vertical-align: middle;\n",
       "    }\n",
       "\n",
       "    .dataframe tbody tr th {\n",
       "        vertical-align: top;\n",
       "    }\n",
       "\n",
       "    .dataframe thead th {\n",
       "        text-align: right;\n",
       "    }\n",
       "</style>\n",
       "<table border=\"1\" class=\"dataframe\">\n",
       "  <thead>\n",
       "    <tr style=\"text-align: right;\">\n",
       "      <th></th>\n",
       "      <th>index</th>\n",
       "      <th>0</th>\n",
       "    </tr>\n",
       "  </thead>\n",
       "  <tbody>\n",
       "    <tr>\n",
       "      <th>0</th>\n",
       "      <td>Species.name</td>\n",
       "      <td>766</td>\n",
       "    </tr>\n",
       "    <tr>\n",
       "      <th>1</th>\n",
       "      <td>Realm</td>\n",
       "      <td>9</td>\n",
       "    </tr>\n",
       "    <tr>\n",
       "      <th>2</th>\n",
       "      <td>TrophicLevel</td>\n",
       "      <td>4</td>\n",
       "    </tr>\n",
       "    <tr>\n",
       "      <th>3</th>\n",
       "      <td>TrophicNiche</td>\n",
       "      <td>10</td>\n",
       "    </tr>\n",
       "    <tr>\n",
       "      <th>4</th>\n",
       "      <td>ForagingNiche</td>\n",
       "      <td>30</td>\n",
       "    </tr>\n",
       "    <tr>\n",
       "      <th>5</th>\n",
       "      <td>GenbankID</td>\n",
       "      <td>766</td>\n",
       "    </tr>\n",
       "    <tr>\n",
       "      <th>6</th>\n",
       "      <td>Taxonomy</td>\n",
       "      <td>468</td>\n",
       "    </tr>\n",
       "    <tr>\n",
       "      <th>7</th>\n",
       "      <td>Gene.name</td>\n",
       "      <td>13</td>\n",
       "    </tr>\n",
       "    <tr>\n",
       "      <th>8</th>\n",
       "      <td>Gene.start.end.and.trend</td>\n",
       "      <td>4091</td>\n",
       "    </tr>\n",
       "    <tr>\n",
       "      <th>9</th>\n",
       "      <td>GeneID</td>\n",
       "      <td>9958</td>\n",
       "    </tr>\n",
       "    <tr>\n",
       "      <th>10</th>\n",
       "      <td>Aminoacids.from.genbank</td>\n",
       "      <td>9280</td>\n",
       "    </tr>\n",
       "    <tr>\n",
       "      <th>11</th>\n",
       "      <td>Translated.aminoacids.by.Python</td>\n",
       "      <td>9295</td>\n",
       "    </tr>\n",
       "    <tr>\n",
       "      <th>12</th>\n",
       "      <td>Not.standart.codons</td>\n",
       "      <td>18</td>\n",
       "    </tr>\n",
       "    <tr>\n",
       "      <th>13</th>\n",
       "      <td>Wrong.amino.num</td>\n",
       "      <td>18</td>\n",
       "    </tr>\n",
       "    <tr>\n",
       "      <th>14</th>\n",
       "      <td>Wrong.nucl.num</td>\n",
       "      <td>124</td>\n",
       "    </tr>\n",
       "    <tr>\n",
       "      <th>15</th>\n",
       "      <td>wrong.amino..</td>\n",
       "      <td>66</td>\n",
       "    </tr>\n",
       "    <tr>\n",
       "      <th>16</th>\n",
       "      <td>Sequence</td>\n",
       "      <td>9821</td>\n",
       "    </tr>\n",
       "    <tr>\n",
       "      <th>17</th>\n",
       "      <td>mtDNA.length</td>\n",
       "      <td>116</td>\n",
       "    </tr>\n",
       "    <tr>\n",
       "      <th>18</th>\n",
       "      <td>nA</td>\n",
       "      <td>487</td>\n",
       "    </tr>\n",
       "    <tr>\n",
       "      <th>19</th>\n",
       "      <td>nT</td>\n",
       "      <td>441</td>\n",
       "    </tr>\n",
       "    <tr>\n",
       "      <th>20</th>\n",
       "      <td>nC</td>\n",
       "      <td>586</td>\n",
       "    </tr>\n",
       "    <tr>\n",
       "      <th>21</th>\n",
       "      <td>nG</td>\n",
       "      <td>269</td>\n",
       "    </tr>\n",
       "    <tr>\n",
       "      <th>22</th>\n",
       "      <td>nNA</td>\n",
       "      <td>18</td>\n",
       "    </tr>\n",
       "    <tr>\n",
       "      <th>23</th>\n",
       "      <td>X.A</td>\n",
       "      <td>1623</td>\n",
       "    </tr>\n",
       "    <tr>\n",
       "      <th>24</th>\n",
       "      <td>X.T</td>\n",
       "      <td>1750</td>\n",
       "    </tr>\n",
       "    <tr>\n",
       "      <th>25</th>\n",
       "      <td>X.C</td>\n",
       "      <td>1912</td>\n",
       "    </tr>\n",
       "    <tr>\n",
       "      <th>26</th>\n",
       "      <td>X.G</td>\n",
       "      <td>1377</td>\n",
       "    </tr>\n",
       "    <tr>\n",
       "      <th>27</th>\n",
       "      <td>X.NA</td>\n",
       "      <td>72</td>\n",
       "    </tr>\n",
       "    <tr>\n",
       "      <th>28</th>\n",
       "      <td>wrong.amino...1</td>\n",
       "      <td>66</td>\n",
       "    </tr>\n",
       "    <tr>\n",
       "      <th>29</th>\n",
       "      <td>neutralA</td>\n",
       "      <td>185</td>\n",
       "    </tr>\n",
       "    <tr>\n",
       "      <th>30</th>\n",
       "      <td>neutralG</td>\n",
       "      <td>65</td>\n",
       "    </tr>\n",
       "    <tr>\n",
       "      <th>31</th>\n",
       "      <td>neutralC</td>\n",
       "      <td>183</td>\n",
       "    </tr>\n",
       "    <tr>\n",
       "      <th>32</th>\n",
       "      <td>neutralT</td>\n",
       "      <td>86</td>\n",
       "    </tr>\n",
       "    <tr>\n",
       "      <th>33</th>\n",
       "      <td>Neutral.count</td>\n",
       "      <td>281</td>\n",
       "    </tr>\n",
       "  </tbody>\n",
       "</table>\n",
       "</div>"
      ],
      "text/plain": [
       "                              index     0\n",
       "0                      Species.name   766\n",
       "1                             Realm     9\n",
       "2                      TrophicLevel     4\n",
       "3                      TrophicNiche    10\n",
       "4                     ForagingNiche    30\n",
       "5                         GenbankID   766\n",
       "6                          Taxonomy   468\n",
       "7                         Gene.name    13\n",
       "8          Gene.start.end.and.trend  4091\n",
       "9                            GeneID  9958\n",
       "10          Aminoacids.from.genbank  9280\n",
       "11  Translated.aminoacids.by.Python  9295\n",
       "12              Not.standart.codons    18\n",
       "13                  Wrong.amino.num    18\n",
       "14                   Wrong.nucl.num   124\n",
       "15                    wrong.amino..    66\n",
       "16                         Sequence  9821\n",
       "17                     mtDNA.length   116\n",
       "18                               nA   487\n",
       "19                               nT   441\n",
       "20                               nC   586\n",
       "21                               nG   269\n",
       "22                              nNA    18\n",
       "23                              X.A  1623\n",
       "24                              X.T  1750\n",
       "25                              X.C  1912\n",
       "26                              X.G  1377\n",
       "27                             X.NA    72\n",
       "28                  wrong.amino...1    66\n",
       "29                         neutralA   185\n",
       "30                         neutralG    65\n",
       "31                         neutralC   183\n",
       "32                         neutralT    86\n",
       "33                    Neutral.count   281"
      ]
     },
     "execution_count": 43,
     "metadata": {},
     "output_type": "execute_result"
    }
   ],
   "source": [
    "df[df.columns[:-65]].nunique().reset_index()"
   ]
  },
  {
   "cell_type": "code",
   "execution_count": 55,
   "id": "32fbcc0a",
   "metadata": {},
   "outputs": [
    {
     "data": {
      "text/plain": [
       "1      1039\n",
       "19     1041\n",
       "29     1041\n",
       "48     1041\n",
       "62     1040\n",
       "70     1039\n",
       "81     1040\n",
       "94     1040\n",
       "111    1040\n",
       "124    1041\n",
       "136    1039\n",
       "146    1041\n",
       "162    1039\n",
       "177    1039\n",
       "190    1039\n",
       "203    1040\n",
       "215    1040\n",
       "229    1040\n",
       "240    1040\n",
       "256    1040\n",
       "273    1040\n",
       "275    1040\n",
       "296    1040\n",
       "309    1040\n",
       "317    1040\n",
       "333    1039\n",
       "348    1040\n",
       "358    1039\n",
       "369    1040\n",
       "387    1039\n",
       "Name: Sequence, dtype: int64"
      ]
     },
     "execution_count": 55,
     "metadata": {},
     "output_type": "execute_result"
    }
   ],
   "source": [
    "df[df[\"Gene.name\"] == \"[ND2]\"].Sequence.apply(len).head(30)"
   ]
  },
  {
   "cell_type": "markdown",
   "id": "3cad0e74",
   "metadata": {},
   "source": [
    "### AA"
   ]
  },
  {
   "cell_type": "code",
   "execution_count": 62,
   "id": "b9d0715a",
   "metadata": {},
   "outputs": [
    {
     "data": {
      "text/plain": [
       "7750"
      ]
     },
     "execution_count": 62,
     "metadata": {},
     "output_type": "execute_result"
    }
   ],
   "source": [
    "sum(df[\"Aminoacids.from.genbank\"] == df[\"Translated.aminoacids.by.Python\"])"
   ]
  },
  {
   "cell_type": "code",
   "execution_count": 58,
   "id": "a0aaffad",
   "metadata": {},
   "outputs": [
    {
     "data": {
      "text/plain": [
       "'MNPQAKLISLTSLLLGTTITISSNHWMMAWTGLEINTLAILPLISKSHHPRAIEATIKYFLVQASASALILFSSTVNAWTTGQWDITQLTHPLACLLLTMAIAMKLGLVPFHFWFPEVLQGSSLTTALLLSTAMKLPPLVLLTLSHPSLNPLLLITMAVASAALGGWMGLNQTQTRKILAFSSISHLGWMAAIIIFNPKLSLLTFYLYALMTSSTFLTLNTMKTLKLSTMMTAWTKTPALSMTLMLTLLSLAGLPPLTGFLPKWMIIQELTKQEMTPAATIMALLSLLSLFFXXRLTYCATITLPPNSANHMKQWRISKSTNPLLAPLLAPSIILLPLSPMIPAIT'"
      ]
     },
     "execution_count": 58,
     "metadata": {},
     "output_type": "execute_result"
    }
   ],
   "source": [
    "df[\"Aminoacids.from.genbank\"].values[0]"
   ]
  },
  {
   "cell_type": "code",
   "execution_count": 59,
   "id": "692327c3",
   "metadata": {},
   "outputs": [
    {
     "data": {
      "text/plain": [
       "'MNPQAKLISLTSLLLGTTITISSNHWMMAWTGLEINTLAILPLISKSHHPRAIEATIKYFLVQASASALILFSSTVNAWTTGQWDITQLTHPLACLLLTMAIAMKLGLVPFHFWFPEVLQGSSLTTALLLSTAMKLPPLVLLTLSHPSLNPLLLITMAVASAALGGWMGLNQTQTRKILAFSSISHLGWMAAIIIFNPKLSLLTFYLYALMTSSTFLTLNTMKTLKLSTMMTAWTKTPALSMTLMLTLLSLAGLPPLTGFLPKWMIIQELTKQEMTPAATIMALLSLLSLFFЮЮRLTYCATITLPPNSANHMKQWRISKSTNPLLAPLLAPSIILLPLSPMIPAIT'"
      ]
     },
     "execution_count": 59,
     "metadata": {},
     "output_type": "execute_result"
    }
   ],
   "source": [
    "df[\"Translated.aminoacids.by.Python\"].values[0]"
   ]
  },
  {
   "cell_type": "code",
   "execution_count": 63,
   "id": "19ac1218",
   "metadata": {},
   "outputs": [
    {
     "name": "stdout",
     "output_type": "stream",
     "text": [
      "292 X Ю\n",
      "293 X Ю\n"
     ]
    }
   ],
   "source": [
    "i = 0\n",
    "for x,y in zip(df[\"Aminoacids.from.genbank\"].values[0], df[\"Translated.aminoacids.by.Python\"].values[0]):\n",
    "    if x != y:\n",
    "        print(i, x, y)\n",
    "    i += 1"
   ]
  },
  {
   "cell_type": "markdown",
   "id": "68855ac6",
   "metadata": {},
   "source": [
    "### Taxonomy"
   ]
  },
  {
   "cell_type": "code",
   "execution_count": 78,
   "id": "76e76056",
   "metadata": {},
   "outputs": [
    {
     "data": {
      "text/plain": [
       "\"['Eukaryota', 'Metazoa', 'Chordata', 'Craniata', 'Vertebrata', 'Euteleostomi', 'Archelosauria', 'Archosauria', 'Dinosauria', 'Saurischia', 'Theropoda', 'Coelurosauria', 'Aves', 'Neognathae', 'Bucerotiformes', 'Bucerotidae', 'Aceros']\""
      ]
     },
     "execution_count": 78,
     "metadata": {},
     "output_type": "execute_result"
    }
   ],
   "source": [
    "df[\"Taxonomy\"].values[80]"
   ]
  },
  {
   "cell_type": "markdown",
   "id": "4431a39b",
   "metadata": {},
   "source": [
    "### Orders \"hash\" table formation"
   ]
  },
  {
   "cell_type": "code",
   "execution_count": 4,
   "id": "a2e55ebc",
   "metadata": {},
   "outputs": [
    {
     "data": {
      "text/html": [
       "<div>\n",
       "<style scoped>\n",
       "    .dataframe tbody tr th:only-of-type {\n",
       "        vertical-align: middle;\n",
       "    }\n",
       "\n",
       "    .dataframe tbody tr th {\n",
       "        vertical-align: top;\n",
       "    }\n",
       "\n",
       "    .dataframe thead th {\n",
       "        text-align: right;\n",
       "    }\n",
       "</style>\n",
       "<table border=\"1\" class=\"dataframe\">\n",
       "  <thead>\n",
       "    <tr style=\"text-align: right;\">\n",
       "      <th></th>\n",
       "      <th>Species.name</th>\n",
       "      <th>Taxonomy</th>\n",
       "    </tr>\n",
       "  </thead>\n",
       "  <tbody>\n",
       "    <tr>\n",
       "      <th>1</th>\n",
       "      <td>Acanthisitta chloris</td>\n",
       "      <td>['Eukaryota', 'Metazoa', 'Chordata', 'Craniata...</td>\n",
       "    </tr>\n",
       "    <tr>\n",
       "      <th>2</th>\n",
       "      <td>Acanthisitta chloris</td>\n",
       "      <td>['Eukaryota', 'Metazoa', 'Chordata', 'Craniata...</td>\n",
       "    </tr>\n",
       "  </tbody>\n",
       "</table>\n",
       "</div>"
      ],
      "text/plain": [
       "           Species.name                                           Taxonomy\n",
       "1  Acanthisitta chloris  ['Eukaryota', 'Metazoa', 'Chordata', 'Craniata...\n",
       "2  Acanthisitta chloris  ['Eukaryota', 'Metazoa', 'Chordata', 'Craniata..."
      ]
     },
     "execution_count": 4,
     "metadata": {},
     "output_type": "execute_result"
    }
   ],
   "source": [
    "orders = df[[\"Species.name\", \"Taxonomy\"]]\n",
    "orders.head(2)"
   ]
  },
  {
   "cell_type": "code",
   "execution_count": 5,
   "id": "3cffbf2d",
   "metadata": {},
   "outputs": [
    {
     "name": "stderr",
     "output_type": "stream",
     "text": [
      "/tmp/ipykernel_6515/2220105377.py:1: SettingWithCopyWarning: \n",
      "A value is trying to be set on a copy of a slice from a DataFrame.\n",
      "Try using .loc[row_indexer,col_indexer] = value instead\n",
      "\n",
      "See the caveats in the documentation: https://pandas.pydata.org/pandas-docs/stable/user_guide/indexing.html#returning-a-view-versus-a-copy\n",
      "  orders[\"Taxonomy\"] = orders.Taxonomy.apply(eval)\n"
     ]
    }
   ],
   "source": [
    "orders[\"Taxonomy\"] = orders.Taxonomy.apply(eval)"
   ]
  },
  {
   "cell_type": "code",
   "execution_count": 6,
   "id": "77c64e09",
   "metadata": {},
   "outputs": [],
   "source": [
    "assert len(set(orders.Taxonomy.apply(lambda x: x[12]))) == 1  # birds"
   ]
  },
  {
   "cell_type": "code",
   "execution_count": 7,
   "id": "c7a747be",
   "metadata": {},
   "outputs": [
    {
     "data": {
      "text/plain": [
       "array([list(['Aves', 'Neognathae', 'Passeriformes', 'Acanthisittidae', 'Acanthisitta']),\n",
       "       list(['Aves', 'Neognathae', 'Passeriformes', 'Acanthisittidae', 'Acanthisitta']),\n",
       "       list(['Aves', 'Neognathae', 'Passeriformes', 'Acanthisittidae', 'Acanthisitta']),\n",
       "       list(['Aves', 'Neognathae', 'Passeriformes', 'Acanthisittidae', 'Acanthisitta']),\n",
       "       list(['Aves', 'Neognathae', 'Passeriformes', 'Acanthisittidae', 'Acanthisitta']),\n",
       "       list(['Aves', 'Neognathae', 'Passeriformes', 'Acanthisittidae', 'Acanthisitta']),\n",
       "       list(['Aves', 'Neognathae', 'Passeriformes', 'Acanthisittidae', 'Acanthisitta']),\n",
       "       list(['Aves', 'Neognathae', 'Passeriformes', 'Acanthisittidae', 'Acanthisitta']),\n",
       "       list(['Aves', 'Neognathae', 'Passeriformes', 'Acanthisittidae', 'Acanthisitta']),\n",
       "       list(['Aves', 'Neognathae', 'Passeriformes', 'Acanthisittidae', 'Acanthisitta']),\n",
       "       list(['Aves', 'Neognathae', 'Passeriformes', 'Acanthisittidae', 'Acanthisitta']),\n",
       "       list(['Aves', 'Neognathae', 'Passeriformes', 'Acanthisittidae', 'Acanthisitta']),\n",
       "       list(['Aves', 'Neognathae', 'Passeriformes', 'Acanthisittidae', 'Acanthisitta']),\n",
       "       list(['Aves', 'Neognathae', 'Passeriformes', 'Meliphagoidea', 'Meliphagidae', 'Acanthorhynchus']),\n",
       "       list(['Aves', 'Neognathae', 'Passeriformes', 'Meliphagoidea', 'Meliphagidae', 'Acanthorhynchus']),\n",
       "       list(['Aves', 'Neognathae', 'Passeriformes', 'Meliphagoidea', 'Meliphagidae', 'Acanthorhynchus']),\n",
       "       list(['Aves', 'Neognathae', 'Passeriformes', 'Meliphagoidea', 'Meliphagidae', 'Acanthorhynchus']),\n",
       "       list(['Aves', 'Neognathae', 'Passeriformes', 'Meliphagoidea', 'Meliphagidae', 'Acanthorhynchus']),\n",
       "       list(['Aves', 'Neognathae', 'Passeriformes', 'Meliphagoidea', 'Meliphagidae', 'Acanthorhynchus']),\n",
       "       list(['Aves', 'Neognathae', 'Passeriformes', 'Meliphagoidea', 'Meliphagidae', 'Acanthorhynchus'])],\n",
       "      dtype=object)"
      ]
     },
     "execution_count": 7,
     "metadata": {},
     "output_type": "execute_result"
    }
   ],
   "source": [
    "# Passeriformes\n",
    "orders.Taxonomy.apply(lambda x: x[12:]).head(20).values"
   ]
  },
  {
   "cell_type": "code",
   "execution_count": 8,
   "id": "c04c23f2",
   "metadata": {},
   "outputs": [],
   "source": [
    "assert \"Passeriformes\" in set(orders.Taxonomy.apply(lambda x: x[14]))"
   ]
  },
  {
   "cell_type": "code",
   "execution_count": 9,
   "id": "ec6438de",
   "metadata": {},
   "outputs": [
    {
     "name": "stderr",
     "output_type": "stream",
     "text": [
      "/tmp/ipykernel_6515/706906315.py:1: SettingWithCopyWarning: \n",
      "A value is trying to be set on a copy of a slice from a DataFrame.\n",
      "Try using .loc[row_indexer,col_indexer] = value instead\n",
      "\n",
      "See the caveats in the documentation: https://pandas.pydata.org/pandas-docs/stable/user_guide/indexing.html#returning-a-view-versus-a-copy\n",
      "  orders[\"Order\"] = orders.Taxonomy.apply(lambda x: x[14])\n"
     ]
    }
   ],
   "source": [
    "orders[\"Order\"] = orders.Taxonomy.apply(lambda x: x[14])"
   ]
  },
  {
   "cell_type": "code",
   "execution_count": 10,
   "id": "8f62eaad",
   "metadata": {},
   "outputs": [
    {
     "data": {
      "text/html": [
       "<div>\n",
       "<style scoped>\n",
       "    .dataframe tbody tr th:only-of-type {\n",
       "        vertical-align: middle;\n",
       "    }\n",
       "\n",
       "    .dataframe tbody tr th {\n",
       "        vertical-align: top;\n",
       "    }\n",
       "\n",
       "    .dataframe thead th {\n",
       "        text-align: right;\n",
       "    }\n",
       "</style>\n",
       "<table border=\"1\" class=\"dataframe\">\n",
       "  <thead>\n",
       "    <tr style=\"text-align: right;\">\n",
       "      <th></th>\n",
       "      <th>Species.name</th>\n",
       "      <th>Taxonomy</th>\n",
       "      <th>Order</th>\n",
       "    </tr>\n",
       "  </thead>\n",
       "  <tbody>\n",
       "    <tr>\n",
       "      <th>1</th>\n",
       "      <td>Acanthisitta chloris</td>\n",
       "      <td>[Eukaryota, Metazoa, Chordata, Craniata, Verte...</td>\n",
       "      <td>Passeriformes</td>\n",
       "    </tr>\n",
       "    <tr>\n",
       "      <th>2</th>\n",
       "      <td>Acanthisitta chloris</td>\n",
       "      <td>[Eukaryota, Metazoa, Chordata, Craniata, Verte...</td>\n",
       "      <td>Passeriformes</td>\n",
       "    </tr>\n",
       "    <tr>\n",
       "      <th>3</th>\n",
       "      <td>Acanthisitta chloris</td>\n",
       "      <td>[Eukaryota, Metazoa, Chordata, Craniata, Verte...</td>\n",
       "      <td>Passeriformes</td>\n",
       "    </tr>\n",
       "    <tr>\n",
       "      <th>4</th>\n",
       "      <td>Acanthisitta chloris</td>\n",
       "      <td>[Eukaryota, Metazoa, Chordata, Craniata, Verte...</td>\n",
       "      <td>Passeriformes</td>\n",
       "    </tr>\n",
       "    <tr>\n",
       "      <th>5</th>\n",
       "      <td>Acanthisitta chloris</td>\n",
       "      <td>[Eukaryota, Metazoa, Chordata, Craniata, Verte...</td>\n",
       "      <td>Passeriformes</td>\n",
       "    </tr>\n",
       "    <tr>\n",
       "      <th>...</th>\n",
       "      <td>...</td>\n",
       "      <td>...</td>\n",
       "      <td>...</td>\n",
       "    </tr>\n",
       "    <tr>\n",
       "      <th>10026</th>\n",
       "      <td>Zosterops poliogastrus</td>\n",
       "      <td>[Eukaryota, Metazoa, Chordata, Craniata, Verte...</td>\n",
       "      <td>Passeriformes</td>\n",
       "    </tr>\n",
       "    <tr>\n",
       "      <th>10027</th>\n",
       "      <td>Zosterops poliogastrus</td>\n",
       "      <td>[Eukaryota, Metazoa, Chordata, Craniata, Verte...</td>\n",
       "      <td>Passeriformes</td>\n",
       "    </tr>\n",
       "    <tr>\n",
       "      <th>10028</th>\n",
       "      <td>Zosterops poliogastrus</td>\n",
       "      <td>[Eukaryota, Metazoa, Chordata, Craniata, Verte...</td>\n",
       "      <td>Passeriformes</td>\n",
       "    </tr>\n",
       "    <tr>\n",
       "      <th>10029</th>\n",
       "      <td>Zosterops poliogastrus</td>\n",
       "      <td>[Eukaryota, Metazoa, Chordata, Craniata, Verte...</td>\n",
       "      <td>Passeriformes</td>\n",
       "    </tr>\n",
       "    <tr>\n",
       "      <th>10030</th>\n",
       "      <td>Zosterops poliogastrus</td>\n",
       "      <td>[Eukaryota, Metazoa, Chordata, Craniata, Verte...</td>\n",
       "      <td>Passeriformes</td>\n",
       "    </tr>\n",
       "  </tbody>\n",
       "</table>\n",
       "<p>9958 rows × 3 columns</p>\n",
       "</div>"
      ],
      "text/plain": [
       "                 Species.name  \\\n",
       "1        Acanthisitta chloris   \n",
       "2        Acanthisitta chloris   \n",
       "3        Acanthisitta chloris   \n",
       "4        Acanthisitta chloris   \n",
       "5        Acanthisitta chloris   \n",
       "...                       ...   \n",
       "10026  Zosterops poliogastrus   \n",
       "10027  Zosterops poliogastrus   \n",
       "10028  Zosterops poliogastrus   \n",
       "10029  Zosterops poliogastrus   \n",
       "10030  Zosterops poliogastrus   \n",
       "\n",
       "                                                Taxonomy          Order  \n",
       "1      [Eukaryota, Metazoa, Chordata, Craniata, Verte...  Passeriformes  \n",
       "2      [Eukaryota, Metazoa, Chordata, Craniata, Verte...  Passeriformes  \n",
       "3      [Eukaryota, Metazoa, Chordata, Craniata, Verte...  Passeriformes  \n",
       "4      [Eukaryota, Metazoa, Chordata, Craniata, Verte...  Passeriformes  \n",
       "5      [Eukaryota, Metazoa, Chordata, Craniata, Verte...  Passeriformes  \n",
       "...                                                  ...            ...  \n",
       "10026  [Eukaryota, Metazoa, Chordata, Craniata, Verte...  Passeriformes  \n",
       "10027  [Eukaryota, Metazoa, Chordata, Craniata, Verte...  Passeriformes  \n",
       "10028  [Eukaryota, Metazoa, Chordata, Craniata, Verte...  Passeriformes  \n",
       "10029  [Eukaryota, Metazoa, Chordata, Craniata, Verte...  Passeriformes  \n",
       "10030  [Eukaryota, Metazoa, Chordata, Craniata, Verte...  Passeriformes  \n",
       "\n",
       "[9958 rows x 3 columns]"
      ]
     },
     "execution_count": 10,
     "metadata": {},
     "output_type": "execute_result"
    }
   ],
   "source": [
    "orders"
   ]
  },
  {
   "cell_type": "code",
   "execution_count": 13,
   "id": "7160e9ac",
   "metadata": {},
   "outputs": [
    {
     "data": {
      "text/plain": [
       "(array(['Passeriformes', 'Accipitriformes', 'Bucerotiformes',\n",
       "        'Galloanserae', 'Caprimulgimorphae', 'Charadriiformes',\n",
       "        'Psittaciformes', 'Coraciiformes', 'Gruiformes', 'Pelecaniformes',\n",
       "        'Sphenisciformes', 'Apterygiformes', 'Strigiformes',\n",
       "        'Galbuliformes', 'Columbiformes', 'Piciformes', 'Falconiformes',\n",
       "        'Casuariiformes', 'Cuculiformes', 'Ciconiiformes', 'Coliiformes',\n",
       "        'Musophagiformes', 'Tinamiformes', 'Procellariiformes',\n",
       "        'Gaviiformes', 'Phoenicopteriformes', 'Rheiformes', 'Upupiformes',\n",
       "        'Struthioniformes', 'Podicipediformes', 'Trogoniformes'],\n",
       "       dtype=object),\n",
       " 31)"
      ]
     },
     "execution_count": 13,
     "metadata": {},
     "output_type": "execute_result"
    }
   ],
   "source": [
    "orders.Order.unique(), orders.Order.nunique()"
   ]
  },
  {
   "cell_type": "code",
   "execution_count": 12,
   "id": "9303da45",
   "metadata": {},
   "outputs": [
    {
     "data": {
      "text/plain": [
       "Passeriformes          4810\n",
       "Galloanserae           1157\n",
       "Psittaciformes          533\n",
       "Charadriiformes         494\n",
       "Gruiformes              364\n",
       "Pelecaniformes          338\n",
       "Caprimulgimorphae       247\n",
       "Accipitriformes         234\n",
       "Columbiformes           234\n",
       "Piciformes              195\n",
       "Falconiformes           182\n",
       "Sphenisciformes         156\n",
       "Coraciiformes           156\n",
       "Strigiformes            143\n",
       "Tinamiformes            130\n",
       "Procellariiformes       117\n",
       "Cuculiformes             91\n",
       "Bucerotiformes           65\n",
       "Ciconiiformes            52\n",
       "Gaviiformes              26\n",
       "Podicipediformes         26\n",
       "Upupiformes              26\n",
       "Rheiformes               26\n",
       "Phoenicopteriformes      26\n",
       "Coliiformes              26\n",
       "Casuariiformes           26\n",
       "Trogoniformes            26\n",
       "Musophagiformes          13\n",
       "Apterygiformes           13\n",
       "Struthioniformes         13\n",
       "Galbuliformes            13\n",
       "Name: Order, dtype: int64"
      ]
     },
     "execution_count": 12,
     "metadata": {},
     "output_type": "execute_result"
    }
   ],
   "source": [
    "orders.Order.value_counts()"
   ]
  },
  {
   "cell_type": "code",
   "execution_count": null,
   "id": "a8a74710",
   "metadata": {},
   "outputs": [],
   "source": []
  },
  {
   "cell_type": "code",
   "execution_count": null,
   "id": "57513f4b",
   "metadata": {},
   "outputs": [],
   "source": []
  }
 ],
 "metadata": {
  "kernelspec": {
   "display_name": "Python 3 (ipykernel)",
   "language": "python",
   "name": "python3"
  },
  "language_info": {
   "codemirror_mode": {
    "name": "ipython",
    "version": 3
   },
   "file_extension": ".py",
   "mimetype": "text/x-python",
   "name": "python",
   "nbconvert_exporter": "python",
   "pygments_lexer": "ipython3",
   "version": "3.9.5"
  }
 },
 "nbformat": 4,
 "nbformat_minor": 5
}
