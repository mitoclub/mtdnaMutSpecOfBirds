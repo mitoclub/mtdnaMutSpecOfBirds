{
 "cells": [
  {
   "cell_type": "code",
   "execution_count": 1,
   "metadata": {},
   "outputs": [],
   "source": [
    "import numpy as np"
   ]
  },
  {
   "cell_type": "code",
   "execution_count": 116,
   "metadata": {},
   "outputs": [],
   "source": [
    "a = np.array([1,9,3,4])\n",
    "b = np.array([1,2,3,4]) - 1\n",
    "c = np.array([5,2,1,-4])\n",
    "d = np.array([7,3,0,5])"
   ]
  },
  {
   "cell_type": "code",
   "execution_count": 54,
   "metadata": {},
   "outputs": [
    {
     "data": {
      "text/plain": [
       "array([[1, 2, 3, 4]])"
      ]
     },
     "execution_count": 54,
     "metadata": {},
     "output_type": "execute_result"
    }
   ],
   "source": [
    "a.reshape((1, -1))"
   ]
  },
  {
   "cell_type": "code",
   "execution_count": 181,
   "metadata": {},
   "outputs": [],
   "source": [
    "trials = 50000"
   ]
  },
  {
   "cell_type": "code",
   "execution_count": 182,
   "metadata": {},
   "outputs": [],
   "source": [
    "for _ in range(trials):\n",
    "    a = np.random.random(4)\n",
    "    b = np.random.random(4)\n",
    "    c = np.random.random(4)\n",
    "    d = np.random.random(4)\n",
    "    res = a * b[:, None] * c[:, None, None] * d[:, None, None, None]\n",
    "    # res = a[:, None, None, None] * b[:, None, None] * c[:, None] * d"
   ]
  },
  {
   "cell_type": "code",
   "execution_count": 184,
   "metadata": {},
   "outputs": [],
   "source": [
    "for i in range(4):\n",
    "    for j in range(4):\n",
    "        for k in range(4):\n",
    "            for m in range(4):\n",
    "                assert res[i,j,k,m] == a[m]*b[k]*c[j]*d[i]"
   ]
  },
  {
   "cell_type": "code",
   "execution_count": 152,
   "metadata": {},
   "outputs": [],
   "source": [
    "for _ in range(trials):\n",
    "    a = np.random.random(4)\n",
    "    b = np.random.random(4)\n",
    "    c = np.random.random(4)\n",
    "    d = np.random.random(4)\n",
    "\n",
    "    for i in range(4):\n",
    "        for j in range(4):\n",
    "            for k in range(4):\n",
    "                for m in range(4):\n",
    "                    _resi = a[m]*b[k]*c[j]*d[i]"
   ]
  },
  {
   "cell_type": "code",
   "execution_count": 158,
   "metadata": {},
   "outputs": [
    {
     "data": {
      "text/plain": [
       "(135,)"
      ]
     },
     "execution_count": 158,
     "metadata": {},
     "output_type": "execute_result"
    }
   ],
   "source": [
    "np.where(res > 0.01)[0].shape"
   ]
  },
  {
   "cell_type": "code",
   "execution_count": 157,
   "metadata": {},
   "outputs": [
    {
     "data": {
      "text/plain": [
       "array([[[0.00711374, 0.0518134 , 0.01053082, 0.00991789],\n",
       "        [0.00394904, 0.02876309, 0.00584596, 0.0055057 ],\n",
       "        [0.00246858, 0.01798005, 0.00365436, 0.00344166],\n",
       "        [0.00141344, 0.01029486, 0.00209238, 0.0019706 ]],\n",
       "\n",
       "       [[0.00524931, 0.03823371, 0.00777081, 0.00731852],\n",
       "        [0.00291404, 0.02122462, 0.0043138 , 0.00406272],\n",
       "        [0.00182159, 0.01326769, 0.00269659, 0.00253964],\n",
       "        [0.00104299, 0.0075967 , 0.00154399, 0.00145413]],\n",
       "\n",
       "       [[0.00720602, 0.05248556, 0.01066743, 0.01004655],\n",
       "        [0.00400027, 0.02913623, 0.0059218 , 0.00557712],\n",
       "        [0.0025006 , 0.0182133 , 0.00370176, 0.00348631],\n",
       "        [0.00143177, 0.01042842, 0.00211952, 0.00199616]],\n",
       "\n",
       "       [[0.00523639, 0.03813958, 0.00775168, 0.0073005 ],\n",
       "        [0.00290687, 0.02117236, 0.00430318, 0.00405272],\n",
       "        [0.00181711, 0.01323502, 0.00268995, 0.00253339],\n",
       "        [0.00104042, 0.007578  , 0.00154019, 0.00145055]]])"
      ]
     },
     "execution_count": 157,
     "metadata": {},
     "output_type": "execute_result"
    }
   ],
   "source": [
    "res[0]"
   ]
  },
  {
   "cell_type": "code",
   "execution_count": 177,
   "metadata": {},
   "outputs": [
    {
     "name": "stdout",
     "output_type": "stream",
     "text": [
      "[[0.86926353 0.02534617 0.95394669 0.74632641]\n",
      " [0.74662726 0.05896299 0.0658278  0.66951944]\n",
      " [0.63537999 0.01559207 0.28320143 0.75474345]\n",
      " [0.37218221 0.13571921 0.84412736 0.2942924 ]]\n"
     ]
    }
   ],
   "source": [
    "A = np.random.random((4, 4))\n",
    "print(A)\n",
    "a, b, c, d = A"
   ]
  },
  {
   "cell_type": "code",
   "execution_count": 179,
   "metadata": {},
   "outputs": [
    {
     "data": {
      "text/plain": [
       "(array([0.86926353, 0.02534617, 0.95394669, 0.74632641]),\n",
       " array([0.74662726, 0.05896299, 0.0658278 , 0.66951944]),\n",
       " array([0.63537999, 0.01559207, 0.28320143, 0.75474345]),\n",
       " array([0.37218221, 0.13571921, 0.84412736, 0.2942924 ]))"
      ]
     },
     "execution_count": 179,
     "metadata": {},
     "output_type": "execute_result"
    }
   ],
   "source": [
    "a, b, c, d"
   ]
  }
 ],
 "metadata": {
  "interpreter": {
   "hash": "faab97b70612bf02f352dc992d51cfde0491124dee3610712001439afebe5dcb"
  },
  "kernelspec": {
   "display_name": "Python 3.8.10 ('env_bio')",
   "language": "python",
   "name": "python3"
  },
  "language_info": {
   "codemirror_mode": {
    "name": "ipython",
    "version": 3
   },
   "file_extension": ".py",
   "mimetype": "text/x-python",
   "name": "python",
   "nbconvert_exporter": "python",
   "pygments_lexer": "ipython3",
   "version": "3.8.10"
  },
  "orig_nbformat": 4
 },
 "nbformat": 4,
 "nbformat_minor": 2
}
