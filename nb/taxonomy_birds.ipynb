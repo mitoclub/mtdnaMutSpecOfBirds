{
 "cells": [
  {
   "cell_type": "code",
   "execution_count": 3,
   "id": "db0f5b91",
   "metadata": {},
   "outputs": [],
   "source": [
    "from collections import defaultdict\n",
    "\n",
    "import pandas as pd"
   ]
  },
  {
   "cell_type": "code",
   "execution_count": 26,
   "id": "2d3ac19b",
   "metadata": {},
   "outputs": [],
   "source": [
    "path_to_species = \"../data/interim/species_birds_in_tree.txt\"\n",
    "path_to_orders_tree = \"../data/interim/orders.tre\"\n",
    "path_to_taxa = \"../data/interim/taxonomy-9.1.csv\""
   ]
  },
  {
   "cell_type": "code",
   "execution_count": 27,
   "id": "15223004",
   "metadata": {},
   "outputs": [],
   "source": [
    "with open(path_to_orders_tree) as fin:\n",
    "    tree_str = fin.read().strip()\n",
    "with open(path_to_species) as fin:\n",
    "    species = list(map(str.strip, fin.readlines()))\n",
    "    genuses = [x.split('_')[0] for x in species]\n",
    "\n",
    "taxa = pd.read_csv(path_to_taxa)\n",
    "taxa[\"Species\"] = taxa[\"Species\"].str.replace(\" \", \"_\")"
   ]
  },
  {
   "cell_type": "code",
   "execution_count": 6,
   "metadata": {},
   "outputs": [
    {
     "data": {
      "text/plain": [
       "{'Megalaima', 'Melophus', 'Padda', 'Uragus', 'Vestiaria'}"
      ]
     },
     "execution_count": 6,
     "metadata": {},
     "output_type": "execute_result"
    }
   ],
   "source": [
    "unk_genuses = set(genuses).difference(taxa.Genus)\n",
    "unk_genuses"
   ]
  },
  {
   "cell_type": "code",
   "execution_count": 7,
   "id": "19fc4ea3",
   "metadata": {},
   "outputs": [
    {
     "data": {
      "text/plain": [
       "['Megalaima_virens',\n",
       " 'Melophus_lathami',\n",
       " 'Padda_oryzivora',\n",
       " 'Uragus_sibiricus',\n",
       " 'Vestiaria_coccinea']"
      ]
     },
     "execution_count": 7,
     "metadata": {},
     "output_type": "execute_result"
    }
   ],
   "source": [
    "[sp for sp in species if sp.split(\"_\")[0] in unk_genuses]"
   ]
  },
  {
   "cell_type": "code",
   "execution_count": 8,
   "metadata": {},
   "outputs": [],
   "source": [
    "genus_updater = dict(\n",
    "    Melophus=\"Emberiza\",\n",
    "    Megalaima=\"Psilopogon\",\n",
    "    Uragus=\"Carpodacus\",\n",
    "    Vestiaria=\"Drepanis\",\n",
    "    Padda=\"Lonchura\",\n",
    ")"
   ]
  },
  {
   "cell_type": "code",
   "execution_count": 9,
   "id": "b4ba9739",
   "metadata": {},
   "outputs": [],
   "source": [
    "sp2order = dict(taxa[taxa.Species.isin(species)][[\"Species\", \"Order\"]].values)\n"
   ]
  },
  {
   "cell_type": "code",
   "execution_count": 10,
   "id": "13c6a612",
   "metadata": {},
   "outputs": [],
   "source": [
    "for sp in set(species).difference(taxa.Species):\n",
    "    genus = sp.split(\"_\")[0]\n",
    "    genus = genus_updater.get(genus) or genus\n",
    "\n",
    "    order = taxa[taxa.Genus == genus].Order.values[0]\n",
    "    assert isinstance(order, str)\n",
    "    sp2order[sp] = order\n",
    "\n",
    "assert len(sp2order) == len(species)"
   ]
  },
  {
   "cell_type": "code",
   "execution_count": 11,
   "id": "141b1cff",
   "metadata": {},
   "outputs": [],
   "source": [
    "order2sp = defaultdict(list)\n",
    "for sp, order in sp2order.items():\n",
    "    order2sp[order].append(sp)"
   ]
  },
  {
   "cell_type": "code",
   "execution_count": 74,
   "id": "080cbf9c",
   "metadata": {},
   "outputs": [],
   "source": [
    "for order in order2sp:\n",
    "    if order not in tree_str:\n",
    "        print(order)"
   ]
  },
  {
   "cell_type": "markdown",
   "id": "81938865",
   "metadata": {},
   "source": [
    "### All orders in constyraint tree!"
   ]
  },
  {
   "cell_type": "code",
   "execution_count": 1,
   "id": "518cff71",
   "metadata": {},
   "outputs": [],
   "source": [
    "from ete3 import PhyloTree"
   ]
  },
  {
   "cell_type": "code",
   "execution_count": 2,
   "id": "62967809",
   "metadata": {},
   "outputs": [],
   "source": [
    "PhyloTree(\"../data/interim/constraint.tre\").show()"
   ]
  },
  {
   "cell_type": "markdown",
   "id": "bfa06939",
   "metadata": {},
   "source": [
    "### But some orders in tree are redundant!!!"
   ]
  },
  {
   "cell_type": "code",
   "execution_count": 12,
   "id": "1cc644ba",
   "metadata": {},
   "outputs": [],
   "source": [
    "import re"
   ]
  },
  {
   "cell_type": "code",
   "execution_count": 28,
   "id": "ce80f986",
   "metadata": {},
   "outputs": [],
   "source": [
    "orders_from_tree = re.findall(\"[^\\(\\),;]+\", tree_str)"
   ]
  },
  {
   "cell_type": "code",
   "execution_count": 29,
   "id": "db11d422",
   "metadata": {},
   "outputs": [
    {
     "data": {
      "text/plain": [
       "dict_keys(['Struthioniformes', 'Rheiformes', 'Apterygiformes', 'Casuariiformes', 'Tinamiformes', 'Anseriformes', 'Galliformes', 'Gaviiformes', 'Sphenisciformes', 'Procellariiformes', 'Podicipediformes', 'Phoenicopteriformes', 'Phaethontiformes', 'Ciconiiformes', 'Pelecaniformes', 'Suliformes', 'Accipitriformes', 'Otidiformes', 'Eurypygiformes', 'Gruiformes', 'Charadriiformes', 'Pterocliformes', 'Columbiformes', 'Musophagiformes', 'Cuculiformes', 'Strigiformes', 'Caprimulgiformes', 'Apodiformes', 'Coliiformes', 'Trogoniformes', 'Coraciiformes', 'Bucerotiformes', 'Piciformes', 'Falconiformes', 'Psittaciformes', 'Passeriformes'])"
      ]
     },
     "execution_count": 29,
     "metadata": {},
     "output_type": "execute_result"
    }
   ],
   "source": [
    "order2sp.keys()"
   ]
  },
  {
   "cell_type": "code",
   "execution_count": 30,
   "id": "c296a456",
   "metadata": {},
   "outputs": [
    {
     "data": {
      "text/plain": [
       "{'\\n'}"
      ]
     },
     "execution_count": 30,
     "metadata": {},
     "output_type": "execute_result"
    }
   ],
   "source": [
    "set(orders_from_tree).difference(order2sp.keys())"
   ]
  },
  {
   "cell_type": "code",
   "execution_count": null,
   "id": "a5879cc3",
   "metadata": {},
   "outputs": [],
   "source": []
  },
  {
   "cell_type": "code",
   "execution_count": null,
   "id": "1ab9e615",
   "metadata": {},
   "outputs": [],
   "source": []
  }
 ],
 "metadata": {
  "kernelspec": {
   "display_name": "Python 3 (ipykernel)",
   "language": "python",
   "name": "python3"
  },
  "language_info": {
   "codemirror_mode": {
    "name": "ipython",
    "version": 3
   },
   "file_extension": ".py",
   "mimetype": "text/x-python",
   "name": "python",
   "nbconvert_exporter": "python",
   "pygments_lexer": "ipython3",
   "version": "3.9.5"
  }
 },
 "nbformat": 4,
 "nbformat_minor": 5
}
